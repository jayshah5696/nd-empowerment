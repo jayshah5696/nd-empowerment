{
 "cells": [
  {
   "cell_type": "code",
   "execution_count": null,
   "id": "5ed78220",
   "metadata": {},
   "outputs": [],
   "source": []
  },
  {
   "cell_type": "code",
   "execution_count": null,
   "id": "8bb85741",
   "metadata": {},
   "outputs": [],
   "source": []
  },
  {
   "cell_type": "code",
   "execution_count": 2,
   "id": "08649316",
   "metadata": {},
   "outputs": [],
   "source": [
    "API_KEY = \"TW...\""
   ]
  },
  {
   "cell_type": "markdown",
   "id": "0190e4dd",
   "metadata": {},
   "source": [
    "### py requests"
   ]
  },
  {
   "cell_type": "code",
   "execution_count": 3,
   "id": "a626e2e9",
   "metadata": {},
   "outputs": [
    {
     "name": "stdout",
     "output_type": "stream",
     "text": [
      "Response data: {'id': 'f9fed6d5b0614eb4b82b5b48bbbd9044', 'object': 'chat.completion', 'created': 1711234001, 'model': 'mistral-large-latest', 'choices': [{'index': 0, 'message': {'role': 'assistant', 'content': 'There are many renowned French painters, but one of the most famous is Claude Monet. He is a key figure in the Impressionist movement, which is one of the most influential art movements in history. Some of his most famous works include \"Water Lilies,\" \"Impression, Sunrise,\" and \"Rouen Cathedral.\" However, it\\'s important to note that France has a rich art history with many notable painters, such as Vincent van Gogh (who was Dutch but spent a significant part of his life in France), Paul Cézanne, Henri Matisse, and Pierre-Auguste Renoir.', 'tool_calls': None}, 'finish_reason': 'stop', 'logprobs': None}], 'usage': {'prompt_tokens': 12, 'total_tokens': 145, 'completion_tokens': 133}}\n"
     ]
    }
   ],
   "source": [
    "import requests\n",
    "import json\n",
    "\n",
    "# Your Mistral API key\n",
    "mistral_api_key = API_KEY\n",
    "\n",
    "# The URL for the API endpoint\n",
    "url = \"https://api.mistral.ai/v1/chat/completions\"\n",
    "\n",
    "# Headers to be sent with the request\n",
    "headers = {\n",
    "    \"Content-Type\": \"application/json\",\n",
    "    \"Accept\": \"application/json\",\n",
    "    \"Authorization\": f\"Bearer {mistral_api_key}\"\n",
    "}\n",
    "\n",
    "# The data payload as a Python dictionary\n",
    "data = {\n",
    "    \"model\": \"mistral-large-latest\",\n",
    "    \"messages\": [{\"role\": \"user\", \"content\": \"Who is the most renowned French painter?\"}]\n",
    "}\n",
    "\n",
    "# Convert the Python dictionary to a JSON formatted string\n",
    "data_json = json.dumps(data)\n",
    "\n",
    "# Make the POST request to the API\n",
    "response = requests.post(url, headers=headers, data=data_json)\n",
    "\n",
    "# Check if the request was successful\n",
    "if response.status_code == 200:\n",
    "    # Parse the JSON response\n",
    "    response_data = response.json()\n",
    "    print(\"Response data:\", response_data)\n",
    "else:\n",
    "    print(\"Failed to get a response from the API, status code:\", response.status_code)"
   ]
  },
  {
   "cell_type": "code",
   "execution_count": 9,
   "id": "dbbd244d",
   "metadata": {},
   "outputs": [
    {
     "data": {
      "text/plain": [
       "'There are many renowned French painters, but one of the most famous is Claude Monet. He is a key figure in the Impressionist movement, which is one of the most influential art movements in history. Some of his most famous works include \"Water Lilies,\" \"Impression, Sunrise,\" and \"Rouen Cathedral.\" However, it\\'s important to note that France has a rich art history with many notable painters, such as Vincent van Gogh (who was Dutch but spent a significant part of his life in France), Paul Cézanne, Henri Matisse, and Pierre-Auguste Renoir.'"
      ]
     },
     "execution_count": 9,
     "metadata": {},
     "output_type": "execute_result"
    }
   ],
   "source": [
    "response_data['choices'][0]['message']['content']"
   ]
  },
  {
   "cell_type": "code",
   "execution_count": null,
   "id": "de96ddd5",
   "metadata": {},
   "outputs": [],
   "source": []
  },
  {
   "cell_type": "markdown",
   "id": "60bc265f",
   "metadata": {},
   "source": [
    "### langchain"
   ]
  },
  {
   "cell_type": "code",
   "execution_count": 10,
   "id": "4bc97510",
   "metadata": {},
   "outputs": [],
   "source": [
    "from langchain_core.messages import HumanMessage\n",
    "from langchain_mistralai.chat_models import ChatMistralAI"
   ]
  },
  {
   "cell_type": "code",
   "execution_count": 11,
   "id": "1cd7fcf9",
   "metadata": {},
   "outputs": [],
   "source": [
    "# If mistral_api_key is not passed, default behavior is to use the `MISTRAL_API_KEY` environment variable.\n",
    "chat = ChatMistralAI(mistral_api_key=API_KEY)"
   ]
  },
  {
   "cell_type": "code",
   "execution_count": 13,
   "id": "88fc27b9",
   "metadata": {},
   "outputs": [],
   "source": [
    "messages = [HumanMessage(content=\"Who is the most renowned French painter?\")]\n",
    "response = chat.invoke(messages)"
   ]
  },
  {
   "cell_type": "code",
   "execution_count": 15,
   "id": "30b930c6",
   "metadata": {},
   "outputs": [
    {
     "data": {
      "text/plain": [
       "\"Renown can be subjective and varies based on personal taste, historical context, and cultural background. However, many people would agree that Claude Monet, a leading figure in the Impressionist movement, is one of the most renowned French painters. His water lily series and scenes of Rouen Cathedral and the French countryside are widely recognized. \\n\\nIf we're talking about older French painters, many would point to Eugène Delacroix, a prominent figure in Romanticism, or Jacques-Louis David, a leading artist during the French Revolution and the Napoleonic era.\\n\\nIn the realm of contemporary art, artists like Henri Matisse, Pablo Picasso (who was Spanish but spent a significant part of his career in France), and Yves Klein have achieved considerable international fame. \\n\\nSo, it really depends on who you ask!\""
      ]
     },
     "execution_count": 15,
     "metadata": {},
     "output_type": "execute_result"
    }
   ],
   "source": [
    "response.content"
   ]
  },
  {
   "cell_type": "code",
   "execution_count": null,
   "id": "42b04369",
   "metadata": {},
   "outputs": [],
   "source": []
  }
 ],
 "metadata": {
  "kernelspec": {
   "display_name": "Python 3",
   "language": "python",
   "name": "python3"
  },
  "language_info": {
   "codemirror_mode": {
    "name": "ipython",
    "version": 3
   },
   "file_extension": ".py",
   "mimetype": "text/x-python",
   "name": "python",
   "nbconvert_exporter": "python",
   "pygments_lexer": "ipython3",
   "version": "3.8.8"
  }
 },
 "nbformat": 4,
 "nbformat_minor": 5
}
