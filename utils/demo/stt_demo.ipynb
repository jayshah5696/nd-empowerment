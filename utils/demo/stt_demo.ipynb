{
 "cells": [
  {
   "cell_type": "code",
   "execution_count": 9,
   "metadata": {},
   "outputs": [],
   "source": [
    "import dotenv\n",
    "import os\n",
    "from pydantic import BaseModel, validator\n",
    "from pathlib import PosixPath\n",
    "import bentoml\n",
    "\n",
    "# Load environment variables from .env file in the previous folder directory\n",
    "dotenv.load_dotenv('../.env')\n",
    "\n",
    "# Access the environment variables\n",
    "stt_api = os.getenv('stt_id')"
   ]
  },
  {
   "cell_type": "code",
   "execution_count": 10,
   "metadata": {},
   "outputs": [],
   "source": [
    "from pydantic import BaseModel\n",
    "from pathlib import Path\n",
    "import bentoml\n",
    "\n",
    "class TranscribeRequest(BaseModel):\n",
    "    audio_file: Path\n",
    "\n",
    "class TranscribeResponse(BaseModel):\n",
    "    segments: list\n",
    "    word_segments: list\n",
    "\n",
    "def transcribe_audio(request: TranscribeRequest) -> TranscribeResponse:\n",
    "    with bentoml.SyncHTTPClient(stt_api) as client:\n",
    "        result = client.transcribe(audio_file=request.audio_file)\n",
    "    \n",
    "    return TranscribeResponse(segments=result['segments'], word_segments=result['word_segments'])\n"
   ]
  },
  {
   "cell_type": "code",
   "execution_count": 11,
   "metadata": {},
   "outputs": [],
   "source": [
    "path = Path('/var/folders/nv/30f4q12s3bz7r149xx20cvdr0000gn/T/bentoml-client-hvetw87m/tmpv_9s3hcooutput.wav')\n",
    "result = transcribe_audio(TranscribeRequest(audio_file=path))"
   ]
  },
  {
   "cell_type": "code",
   "execution_count": 13,
   "metadata": {},
   "outputs": [
    {
     "data": {
      "text/plain": [
       "' How are you doing today?'"
      ]
     },
     "execution_count": 13,
     "metadata": {},
     "output_type": "execute_result"
    }
   ],
   "source": [
    "result.segments[0]['text']"
   ]
  },
  {
   "cell_type": "code",
   "execution_count": null,
   "metadata": {},
   "outputs": [],
   "source": []
  }
 ],
 "metadata": {
  "kernelspec": {
   "display_name": "nd",
   "language": "python",
   "name": "python3"
  },
  "language_info": {
   "codemirror_mode": {
    "name": "ipython",
    "version": 3
   },
   "file_extension": ".py",
   "mimetype": "text/x-python",
   "name": "python",
   "nbconvert_exporter": "python",
   "pygments_lexer": "ipython3",
   "version": "3.11.8"
  }
 },
 "nbformat": 4,
 "nbformat_minor": 2
}
